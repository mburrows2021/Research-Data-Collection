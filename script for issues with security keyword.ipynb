{
 "cells": [
  {
   "cell_type": "code",
   "execution_count": null,
   "id": "f4ac15c3",
   "metadata": {},
   "outputs": [],
   "source": [
    "import requests\n",
    "import json\n",
    "#use github your token\n",
    "GITHUB_TOKEN = 'github_token'\n",
    "GITHUB_API_URL = 'https://api.github.com/search/issues'\n",
    "headers = {\n",
    "    'Authorization': f'token {GITHUB_TOKEN}',\n",
    "    'Accept': 'application/vnd.github.v3+json',\n",
    "}\n",
    "# Define the search query\n",
    "#query = 'maven security is:issue'\n",
    "# Define the search query\n",
    "query = 'make security is:issue'\n",
    "\n",
    "\n",
    "\n",
    "#Set up the parameters for the API request\n",
    "params = {\n",
    "    'q': query,\n",
    "    'per_page': 100,  # Maximum number of results per page\n",
    "}\n",
    "\n",
    "# Make the API request\n",
    "response = requests.get(GITHUB_API_URL, headers=headers, params=params)\n",
    "response_data = response.json()\n",
    "\n",
    "# Check if the response is valid\n",
    "if response.status_code == 200:\n",
    "    issues = response_data.get('items', [])\n",
    "    with open('make_security_issues.txt', 'w') as file:\n",
    "        for issue in issues:\n",
    "            file.write(issue['html_url'] + '\\n')\n",
    "    print(f\"Successfully saved {len(issues)} issue links to 'make_security_issues.txt'\")\n",
    "else:\n",
    "    print(f\"Failed to fetch issues: {response_data}\")\n",
    "    \n",
    "    #Handle pagination if there are more than 100 results\n",
    "total_count = response_data.get('total_count', 0)\n",
    "if total_count > 100:\n",
    "    for page in range(2, (total_count // 100) + 2):\n",
    "        params['page'] = page\n",
    "        response = requests.get(GITHUB_API_URL, headers=headers, params=params)\n",
    "        response_data = response.json()\n",
    "        issues = response_data.get('items', [])\n",
    "        with open('make_security_issues.txt', 'a') as file:\n",
    "            for issue in issues:\n",
    "                file.write(issue['html_url'] + '\\n')\n",
    "        print(f\"Successfully appended {len(issues)} issue links from page {page} to 'cmake_security_issues.txt'\")"
   ]
  }
 ],
 "metadata": {
  "kernelspec": {
   "display_name": "Python 3 (ipykernel)",
   "language": "python",
   "name": "python3"
  },
  "language_info": {
   "codemirror_mode": {
    "name": "ipython",
    "version": 3
   },
   "file_extension": ".py",
   "mimetype": "text/x-python",
   "name": "python",
   "nbconvert_exporter": "python",
   "pygments_lexer": "ipython3",
   "version": "3.11.4"
  }
 },
 "nbformat": 4,
 "nbformat_minor": 5
}
